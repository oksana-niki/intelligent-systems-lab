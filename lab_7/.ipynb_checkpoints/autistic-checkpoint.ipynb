{
 "cells": [
  {
   "cell_type": "markdown",
   "metadata": {},
   "source": [
    "<h1 style=\"text-align: center\">Autistic Spectrum Disorder Screening Data for Children</h1>"
   ]
  },
  {
   "cell_type": "markdown",
   "metadata": {},
   "source": [
    "## Данные скрининга детей на аутизм, пригодные для задач классификации и прогнозирования.\n",
    "\n",
    "- 292 примера\n",
    "- 21 признак\n",
    "\n",
    "### https://archive.ics.uci.edu/dataset/419/autistic+spectrum+disorder+screening+data+for+children"
   ]
  },
  {
   "cell_type": "markdown",
   "metadata": {},
   "source": [
    "## 2.1. Описание набора данных, пояснения, позволяющие лучше понять природу данных. Назначение набора данных и возможные модели, которые можно построить на основе данного набора данных (практические задачи, решаемые с использованием данного обучающего набора данных). Описание каждого признака и его тип."
   ]
  },
  {
   "cell_type": "markdown",
   "metadata": {},
   "source": [
    "\n",
    "## Назначение набора данных\n",
    "\n",
    "Данный набор данных предназначен для скрининга признаков расстройства аутистического спектра (РАС) у детей в возрасте от 4 до 11 лет.  \n",
    "Цель — классификация: определить наличие или отсутствие признаков аутизма на основе ответов на диагностические вопросы и других демографических характеристик.\n",
    "\n",
    "### Практические задачи:\n",
    "- Выявление детей с риском аутизма на ранней стадии.\n",
    "- Построение моделей предсказания диагноза РАС.\n",
    "- Анализ демографических факторов, связанных с аутизмом.\n",
    "- Создание вспомогательных систем для врачей и педагогов.\n",
    "\n",
    "### Возможные модели:\n",
    "- Классификационные модели (решающие деревья, логистическая регрессия, SVM, нейронные сети).\n",
    "- Модели отбора признаков (feature selection).\n",
    "- Системы поддержки принятия решений в медицинской практике.\n",
    "\n",
    "---\n",
    "\n",
    "## Описание признаков и их типы\n",
    "\n",
    "| №  | Название признака      | Тип данных               | Описание |\n",
    "|----|-------------------------|---------------------------|----------|\n",
    "| 1  | `A1_Score`               | категориальный {0,1}      | Ответ на первый диагностический вопрос |\n",
    "| 2  | `A2_Score`               | категориальный {0,1}      | Ответ на второй диагностический вопрос |\n",
    "| 3  | `A3_Score`               | категориальный {0,1}      | Ответ на третий диагностический вопрос |\n",
    "| 4  | `A4_Score`               | категориальный {0,1}      | Ответ на четвёртый диагностический вопрос |\n",
    "| 5  | `A5_Score`               | категориальный {0,1}      | Ответ на пятый диагностический вопрос |\n",
    "| 6  | `A6_Score`               | категориальный {0,1}      | Ответ на шестой диагностический вопрос |\n",
    "| 7  | `A7_Score`               | категориальный {0,1}      | Ответ на седьмой диагностический вопрос |\n",
    "| 8  | `A8_Score`               | категориальный {0,1}      | Ответ на восьмой диагностический вопрос |\n",
    "| 9  | `A9_Score`               | категориальный {0,1}      | Ответ на девятый диагностический вопрос |\n",
    "| 10 | `A10_Score`              | категориальный {0,1}      | Ответ на десятый диагностический вопрос |\n",
    "| 11 | `age`                   | числовой                 | Возраст ребёнка |\n",
    "| 12 | `gender`                | категориальный {m, f}     | Пол ребёнка |\n",
    "| 13 | `ethnicity`             | категориальный            | Этническая принадлежность |\n",
    "| 14 | `jundice`               | категориальный {yes, no}  | Наличие желтухи в анамнезе |\n",
    "| 15 | `austim`                | категориальный {yes, no}  | Наличие аутизма у родственников |\n",
    "| 16 | `contry_of_res`         | категориальный            | Страна проживания |\n",
    "| 17 | `used_app_before`       | категориальный {yes, no}  | Использование диагностического приложения ранее |\n",
    "| 18 | `result`                | числовой                 | Количество правильных ответов в тесте |\n",
    "| 19 | `age_desc`              | категориальный {'4-11 years'} | Описание возрастной группы |\n",
    "| 20 | `relation`              | категориальный            | Связь респондента с ребёнком |\n",
    "| 21 | `Class/ASD`             | категориальный {YES, NO}  | Наличие признаков аутизма (целевая переменная) |\n",
    "\n",
    "---"
   ]
  },
  {
   "cell_type": "code",
   "execution_count": 7,
   "metadata": {},
   "outputs": [],
   "source": [
    "# Импортируем нужные библиотеки\n",
    "import pandas as pd\n",
    "\n",
    "# Открываем .arff файл как обычный текстовый файл и читаем в pandas\n",
    "# Игнорируем строки с метаданными ARFF (начинаются с '@')\n",
    "# comment='@' пропускает все строки в .arff файле, которые начинаются на @ (это метаинформация, а не данные).\n",
    "# header=None потому что в файле заголовков для колонок нет.\n",
    "data = pd.read_csv('Autism-Child-Data.arff', comment='@', header=None)\n",
    "\n",
    "# Задаем имена столбцов вручную (так как в файле их нет)\n",
    "data.columns = [\n",
    "    'A1_Score', 'A2_Score', 'A3_Score', 'A4_Score', 'A5_Score',\n",
    "    'A6_Score', 'A7_Score', 'A8_Score', 'A9_Score', 'A10_Score',\n",
    "    'age', 'gender', 'ethnicity', 'jundice', 'austim',\n",
    "    'contry_of_res', 'used_app_before', 'result', 'age_desc',\n",
    "    'relation', 'Class/ASD'\n",
    "]"
   ]
  },
  {
   "cell_type": "markdown",
   "metadata": {},
   "source": [
    "### Отображаем первые 5 строк датасета"
   ]
  },
  {
   "cell_type": "code",
   "execution_count": 8,
   "metadata": {},
   "outputs": [
    {
     "name": "stdout",
     "output_type": "stream",
     "text": [
      "   A1_Score  A2_Score  A3_Score  A4_Score  A5_Score  A6_Score  A7_Score  \\\n",
      "0         1         1         0         0         1         1         0   \n",
      "1         1         1         0         0         1         1         0   \n",
      "2         1         1         0         0         0         1         1   \n",
      "3         0         1         0         0         1         1         0   \n",
      "4         1         1         1         1         1         1         1   \n",
      "\n",
      "   A8_Score  A9_Score  A10_Score  ... gender          ethnicity jundice  \\\n",
      "0         1         0          0  ...      m             Others      no   \n",
      "1         1         0          0  ...      m  'Middle Eastern '      no   \n",
      "2         1         0          0  ...      m                  ?      no   \n",
      "3         0         0          1  ...      f                  ?     yes   \n",
      "4         1         1          1  ...      m             Others     yes   \n",
      "\n",
      "  austim    contry_of_res used_app_before result      age_desc relation  \\\n",
      "0     no           Jordan              no      5  '4-11 years'   Parent   \n",
      "1     no           Jordan              no      5  '4-11 years'   Parent   \n",
      "2     no           Jordan             yes      5  '4-11 years'        ?   \n",
      "3     no           Jordan              no      4  '4-11 years'        ?   \n",
      "4     no  'United States'              no     10  '4-11 years'   Parent   \n",
      "\n",
      "  Class/ASD  \n",
      "0        NO  \n",
      "1        NO  \n",
      "2        NO  \n",
      "3        NO  \n",
      "4       YES  \n",
      "\n",
      "[5 rows x 21 columns]\n"
     ]
    }
   ],
   "source": [
    "print(data.head())"
   ]
  },
  {
   "cell_type": "markdown",
   "metadata": {},
   "source": [
    "### Отображаем тип данных каждого признака"
   ]
  },
  {
   "cell_type": "code",
   "execution_count": 6,
   "metadata": {},
   "outputs": [
    {
     "name": "stdout",
     "output_type": "stream",
     "text": [
      "A1_Score            int64\n",
      "A2_Score            int64\n",
      "A3_Score            int64\n",
      "A4_Score            int64\n",
      "A5_Score            int64\n",
      "A6_Score            int64\n",
      "A7_Score            int64\n",
      "A8_Score            int64\n",
      "A9_Score            int64\n",
      "A10_Score           int64\n",
      "age                object\n",
      "gender             object\n",
      "ethnicity          object\n",
      "jundice            object\n",
      "austim             object\n",
      "contry_of_res      object\n",
      "used_app_before    object\n",
      "result              int64\n",
      "age_desc           object\n",
      "relation           object\n",
      "Class/ASD          object\n",
      "dtype: object\n"
     ]
    }
   ],
   "source": [
    "print(data.dtypes)"
   ]
  },
  {
   "cell_type": "markdown",
   "metadata": {},
   "source": [
    "### Преобразуем символы '?' в NaN"
   ]
  },
  {
   "cell_type": "code",
   "execution_count": 9,
   "metadata": {},
   "outputs": [],
   "source": [
    "data.replace('?', pd.NA, inplace=True)"
   ]
  },
  {
   "cell_type": "markdown",
   "metadata": {},
   "source": [
    "### Общая информация: размерность, типы, пропущенные значения и статистика"
   ]
  },
  {
   "cell_type": "code",
   "execution_count": 10,
   "metadata": {},
   "outputs": [],
   "source": [
    "info = {\n",
    "    \"shape\": data.shape,\n",
    "    \"num_features\": len(data.columns),\n",
    "    \"num_missing\": data.isna().sum().sum(),\n",
    "    \"missing_per_column\": data.isna().sum(),\n",
    "    \"numerical_summary\": data.describe(),\n",
    "    \"categorical_summary\": data.describe(include=['object']),\n",
    "}"
   ]
  },
  {
   "cell_type": "markdown",
   "metadata": {},
   "source": [
    "### Количество элементов набора (строк)"
   ]
  },
  {
   "cell_type": "code",
   "execution_count": 12,
   "metadata": {},
   "outputs": [
    {
     "data": {
      "text/plain": [
       "292"
      ]
     },
     "execution_count": 12,
     "metadata": {},
     "output_type": "execute_result"
    }
   ],
   "source": [
    "# количество наблюдений (детей) в датасете\n",
    "len(data)"
   ]
  },
  {
   "cell_type": "markdown",
   "metadata": {},
   "source": [
    "### Количество признаков (столбцов)\n",
    "Признаки — это все столбцы, включая демографические, ответы на тесты и целевой столбец (Class/ASD)."
   ]
  },
  {
   "cell_type": "code",
   "execution_count": 13,
   "metadata": {},
   "outputs": [
    {
     "data": {
      "text/plain": [
       "21"
      ]
     },
     "execution_count": 13,
     "metadata": {},
     "output_type": "execute_result"
    }
   ],
   "source": [
    "len(data.columns)"
   ]
  },
  {
   "cell_type": "markdown",
   "metadata": {},
   "source": [
    "### Количество пропущенных значений"
   ]
  },
  {
   "cell_type": "code",
   "execution_count": 14,
   "metadata": {},
   "outputs": [
    {
     "data": {
      "text/plain": [
       "90"
      ]
     },
     "execution_count": 14,
     "metadata": {},
     "output_type": "execute_result"
    }
   ],
   "source": [
    "data.isna().sum().sum()\n"
   ]
  },
  {
   "cell_type": "markdown",
   "metadata": {},
   "source": [
    "### Количество пропущенных значений по столбцам, чтобы понять, где проблемы сильнее всего"
   ]
  },
  {
   "cell_type": "code",
   "execution_count": 15,
   "metadata": {},
   "outputs": [
    {
     "data": {
      "text/plain": [
       "A1_Score            0\n",
       "A2_Score            0\n",
       "A3_Score            0\n",
       "A4_Score            0\n",
       "A5_Score            0\n",
       "A6_Score            0\n",
       "A7_Score            0\n",
       "A8_Score            0\n",
       "A9_Score            0\n",
       "A10_Score           0\n",
       "age                 4\n",
       "gender              0\n",
       "ethnicity          43\n",
       "jundice             0\n",
       "austim              0\n",
       "contry_of_res       0\n",
       "used_app_before     0\n",
       "result              0\n",
       "age_desc            0\n",
       "relation           43\n",
       "Class/ASD           0\n",
       "dtype: int64"
      ]
     },
     "execution_count": 15,
     "metadata": {},
     "output_type": "execute_result"
    }
   ],
   "source": [
    "data.isna().sum()\n"
   ]
  },
  {
   "cell_type": "markdown",
   "metadata": {},
   "source": [
    "### Статистика по числовым признакам\n",
    "- средние значения\n",
    "- стандартные отклонения\n",
    "- минимумы и максимумы\n",
    "- квартильные значения"
   ]
  },
  {
   "cell_type": "code",
   "execution_count": 16,
   "metadata": {},
   "outputs": [
    {
     "data": {
      "text/html": [
       "<div>\n",
       "<style scoped>\n",
       "    .dataframe tbody tr th:only-of-type {\n",
       "        vertical-align: middle;\n",
       "    }\n",
       "\n",
       "    .dataframe tbody tr th {\n",
       "        vertical-align: top;\n",
       "    }\n",
       "\n",
       "    .dataframe thead th {\n",
       "        text-align: right;\n",
       "    }\n",
       "</style>\n",
       "<table border=\"1\" class=\"dataframe\">\n",
       "  <thead>\n",
       "    <tr style=\"text-align: right;\">\n",
       "      <th></th>\n",
       "      <th>A1_Score</th>\n",
       "      <th>A2_Score</th>\n",
       "      <th>A3_Score</th>\n",
       "      <th>A4_Score</th>\n",
       "      <th>A5_Score</th>\n",
       "      <th>A6_Score</th>\n",
       "      <th>A7_Score</th>\n",
       "      <th>A8_Score</th>\n",
       "      <th>A9_Score</th>\n",
       "      <th>A10_Score</th>\n",
       "      <th>result</th>\n",
       "    </tr>\n",
       "  </thead>\n",
       "  <tbody>\n",
       "    <tr>\n",
       "      <th>count</th>\n",
       "      <td>292.000000</td>\n",
       "      <td>292.000000</td>\n",
       "      <td>292.000000</td>\n",
       "      <td>292.000000</td>\n",
       "      <td>292.000000</td>\n",
       "      <td>292.000000</td>\n",
       "      <td>292.000000</td>\n",
       "      <td>292.000000</td>\n",
       "      <td>292.000000</td>\n",
       "      <td>292.000000</td>\n",
       "      <td>292.000000</td>\n",
       "    </tr>\n",
       "    <tr>\n",
       "      <th>mean</th>\n",
       "      <td>0.633562</td>\n",
       "      <td>0.534247</td>\n",
       "      <td>0.743151</td>\n",
       "      <td>0.551370</td>\n",
       "      <td>0.743151</td>\n",
       "      <td>0.712329</td>\n",
       "      <td>0.606164</td>\n",
       "      <td>0.496575</td>\n",
       "      <td>0.493151</td>\n",
       "      <td>0.726027</td>\n",
       "      <td>6.239726</td>\n",
       "    </tr>\n",
       "    <tr>\n",
       "      <th>std</th>\n",
       "      <td>0.482658</td>\n",
       "      <td>0.499682</td>\n",
       "      <td>0.437646</td>\n",
       "      <td>0.498208</td>\n",
       "      <td>0.437646</td>\n",
       "      <td>0.453454</td>\n",
       "      <td>0.489438</td>\n",
       "      <td>0.500847</td>\n",
       "      <td>0.500811</td>\n",
       "      <td>0.446761</td>\n",
       "      <td>2.284882</td>\n",
       "    </tr>\n",
       "    <tr>\n",
       "      <th>min</th>\n",
       "      <td>0.000000</td>\n",
       "      <td>0.000000</td>\n",
       "      <td>0.000000</td>\n",
       "      <td>0.000000</td>\n",
       "      <td>0.000000</td>\n",
       "      <td>0.000000</td>\n",
       "      <td>0.000000</td>\n",
       "      <td>0.000000</td>\n",
       "      <td>0.000000</td>\n",
       "      <td>0.000000</td>\n",
       "      <td>0.000000</td>\n",
       "    </tr>\n",
       "    <tr>\n",
       "      <th>25%</th>\n",
       "      <td>0.000000</td>\n",
       "      <td>0.000000</td>\n",
       "      <td>0.000000</td>\n",
       "      <td>0.000000</td>\n",
       "      <td>0.000000</td>\n",
       "      <td>0.000000</td>\n",
       "      <td>0.000000</td>\n",
       "      <td>0.000000</td>\n",
       "      <td>0.000000</td>\n",
       "      <td>0.000000</td>\n",
       "      <td>5.000000</td>\n",
       "    </tr>\n",
       "    <tr>\n",
       "      <th>50%</th>\n",
       "      <td>1.000000</td>\n",
       "      <td>1.000000</td>\n",
       "      <td>1.000000</td>\n",
       "      <td>1.000000</td>\n",
       "      <td>1.000000</td>\n",
       "      <td>1.000000</td>\n",
       "      <td>1.000000</td>\n",
       "      <td>0.000000</td>\n",
       "      <td>0.000000</td>\n",
       "      <td>1.000000</td>\n",
       "      <td>6.000000</td>\n",
       "    </tr>\n",
       "    <tr>\n",
       "      <th>75%</th>\n",
       "      <td>1.000000</td>\n",
       "      <td>1.000000</td>\n",
       "      <td>1.000000</td>\n",
       "      <td>1.000000</td>\n",
       "      <td>1.000000</td>\n",
       "      <td>1.000000</td>\n",
       "      <td>1.000000</td>\n",
       "      <td>1.000000</td>\n",
       "      <td>1.000000</td>\n",
       "      <td>1.000000</td>\n",
       "      <td>8.000000</td>\n",
       "    </tr>\n",
       "    <tr>\n",
       "      <th>max</th>\n",
       "      <td>1.000000</td>\n",
       "      <td>1.000000</td>\n",
       "      <td>1.000000</td>\n",
       "      <td>1.000000</td>\n",
       "      <td>1.000000</td>\n",
       "      <td>1.000000</td>\n",
       "      <td>1.000000</td>\n",
       "      <td>1.000000</td>\n",
       "      <td>1.000000</td>\n",
       "      <td>1.000000</td>\n",
       "      <td>10.000000</td>\n",
       "    </tr>\n",
       "  </tbody>\n",
       "</table>\n",
       "</div>"
      ],
      "text/plain": [
       "         A1_Score    A2_Score    A3_Score    A4_Score    A5_Score    A6_Score  \\\n",
       "count  292.000000  292.000000  292.000000  292.000000  292.000000  292.000000   \n",
       "mean     0.633562    0.534247    0.743151    0.551370    0.743151    0.712329   \n",
       "std      0.482658    0.499682    0.437646    0.498208    0.437646    0.453454   \n",
       "min      0.000000    0.000000    0.000000    0.000000    0.000000    0.000000   \n",
       "25%      0.000000    0.000000    0.000000    0.000000    0.000000    0.000000   \n",
       "50%      1.000000    1.000000    1.000000    1.000000    1.000000    1.000000   \n",
       "75%      1.000000    1.000000    1.000000    1.000000    1.000000    1.000000   \n",
       "max      1.000000    1.000000    1.000000    1.000000    1.000000    1.000000   \n",
       "\n",
       "         A7_Score    A8_Score    A9_Score   A10_Score      result  \n",
       "count  292.000000  292.000000  292.000000  292.000000  292.000000  \n",
       "mean     0.606164    0.496575    0.493151    0.726027    6.239726  \n",
       "std      0.489438    0.500847    0.500811    0.446761    2.284882  \n",
       "min      0.000000    0.000000    0.000000    0.000000    0.000000  \n",
       "25%      0.000000    0.000000    0.000000    0.000000    5.000000  \n",
       "50%      1.000000    0.000000    0.000000    1.000000    6.000000  \n",
       "75%      1.000000    1.000000    1.000000    1.000000    8.000000  \n",
       "max      1.000000    1.000000    1.000000    1.000000   10.000000  "
      ]
     },
     "execution_count": 16,
     "metadata": {},
     "output_type": "execute_result"
    }
   ],
   "source": [
    "data.describe()\n"
   ]
  },
  {
   "cell_type": "markdown",
   "metadata": {},
   "source": [
    "### Частоты категориальных признаков\n",
    "Это поможет увидеть, например, какие значения у gender, ethnicity, country_of_res и как часто они встречаются."
   ]
  },
  {
   "cell_type": "code",
   "execution_count": 18,
   "metadata": {},
   "outputs": [
    {
     "data": {
      "text/html": [
       "<div>\n",
       "<style scoped>\n",
       "    .dataframe tbody tr th:only-of-type {\n",
       "        vertical-align: middle;\n",
       "    }\n",
       "\n",
       "    .dataframe tbody tr th {\n",
       "        vertical-align: top;\n",
       "    }\n",
       "\n",
       "    .dataframe thead th {\n",
       "        text-align: right;\n",
       "    }\n",
       "</style>\n",
       "<table border=\"1\" class=\"dataframe\">\n",
       "  <thead>\n",
       "    <tr style=\"text-align: right;\">\n",
       "      <th></th>\n",
       "      <th>age</th>\n",
       "      <th>gender</th>\n",
       "      <th>ethnicity</th>\n",
       "      <th>jundice</th>\n",
       "      <th>austim</th>\n",
       "      <th>contry_of_res</th>\n",
       "      <th>used_app_before</th>\n",
       "      <th>age_desc</th>\n",
       "      <th>relation</th>\n",
       "      <th>Class/ASD</th>\n",
       "    </tr>\n",
       "  </thead>\n",
       "  <tbody>\n",
       "    <tr>\n",
       "      <th>count</th>\n",
       "      <td>288</td>\n",
       "      <td>292</td>\n",
       "      <td>249</td>\n",
       "      <td>292</td>\n",
       "      <td>292</td>\n",
       "      <td>292</td>\n",
       "      <td>292</td>\n",
       "      <td>292</td>\n",
       "      <td>249</td>\n",
       "      <td>292</td>\n",
       "    </tr>\n",
       "    <tr>\n",
       "      <th>unique</th>\n",
       "      <td>8</td>\n",
       "      <td>2</td>\n",
       "      <td>10</td>\n",
       "      <td>2</td>\n",
       "      <td>2</td>\n",
       "      <td>52</td>\n",
       "      <td>2</td>\n",
       "      <td>1</td>\n",
       "      <td>5</td>\n",
       "      <td>2</td>\n",
       "    </tr>\n",
       "    <tr>\n",
       "      <th>top</th>\n",
       "      <td>4</td>\n",
       "      <td>m</td>\n",
       "      <td>White-European</td>\n",
       "      <td>no</td>\n",
       "      <td>no</td>\n",
       "      <td>'United Kingdom'</td>\n",
       "      <td>no</td>\n",
       "      <td>'4-11 years'</td>\n",
       "      <td>Parent</td>\n",
       "      <td>NO</td>\n",
       "    </tr>\n",
       "    <tr>\n",
       "      <th>freq</th>\n",
       "      <td>92</td>\n",
       "      <td>208</td>\n",
       "      <td>108</td>\n",
       "      <td>212</td>\n",
       "      <td>243</td>\n",
       "      <td>49</td>\n",
       "      <td>281</td>\n",
       "      <td>292</td>\n",
       "      <td>214</td>\n",
       "      <td>151</td>\n",
       "    </tr>\n",
       "  </tbody>\n",
       "</table>\n",
       "</div>"
      ],
      "text/plain": [
       "        age gender       ethnicity jundice austim     contry_of_res  \\\n",
       "count   288    292             249     292    292               292   \n",
       "unique    8      2              10       2      2                52   \n",
       "top       4      m  White-European      no     no  'United Kingdom'   \n",
       "freq     92    208             108     212    243                49   \n",
       "\n",
       "       used_app_before      age_desc relation Class/ASD  \n",
       "count              292           292      249       292  \n",
       "unique               2             1        5         2  \n",
       "top                 no  '4-11 years'   Parent        NO  \n",
       "freq               281           292      214       151  "
      ]
     },
     "execution_count": 18,
     "metadata": {},
     "output_type": "execute_result"
    }
   ],
   "source": [
    "data.describe(include=['object'])\n"
   ]
  },
  {
   "cell_type": "markdown",
   "metadata": {},
   "source": [
    "### Первичные предположения\n",
    "После просмотра статистики можно сделать выводы:\n",
    "\n",
    "- У некоторых детей пропущен возраст — нужно будет обработать.\n",
    "- Пол может влиять на диагноз.\n",
    "- Есть ли перекос по странам или национальностям?"
   ]
  },
  {
   "cell_type": "code",
   "execution_count": null,
   "metadata": {},
   "outputs": [],
   "source": []
  }
 ],
 "metadata": {
  "kernelspec": {
   "display_name": "Python 3",
   "language": "python",
   "name": "python3"
  },
  "language_info": {
   "codemirror_mode": {
    "name": "ipython",
    "version": 3
   },
   "file_extension": ".py",
   "mimetype": "text/x-python",
   "name": "python",
   "nbconvert_exporter": "python",
   "pygments_lexer": "ipython3",
   "version": "3.8.5"
  }
 },
 "nbformat": 4,
 "nbformat_minor": 4
}
