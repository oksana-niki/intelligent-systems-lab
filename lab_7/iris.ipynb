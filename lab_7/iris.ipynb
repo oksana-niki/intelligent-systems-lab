{
 "cells": [
  {
   "cell_type": "markdown",
   "metadata": {},
   "source": [
    "<h1 style=\"text-align: center\">Лабораторная работа 1</h1>"
   ]
  },
  {
   "cell_type": "markdown",
   "metadata": {},
   "source": [
    "<h2 style=\"text-align: center\">Исследование набора данных ирисы Фишера</h2>"
   ]
  },
  {
   "cell_type": "markdown",
   "metadata": {},
   "source": [
    "Данный набор данных предназначен для построения модели классификации.\n",
    "Данные о 150 экземплярах ириса, по 50 экземпляров из трёх видов:\n",
    "- Ирис щетинистый (Iris setosa)\n",
    "- Ирис виргинский (Iris virginica)\n",
    "- Ирис разноцветный (Iris versicolor).\n",
    "\n",
    "Для каждого экземпляра измерялись четыре характеристики (в сантиметрах):\n",
    "\n",
    "1) длина наружной доли околоцветника (sepal length);  \n",
    "2) ширина наружной доли околоцветника (sepal width);  \n",
    "3) длина внутренней доли околоцветника (petal length);  \n",
    "4) ширина внутренней доли околоцветника (petal width)."
   ]
  },
  {
   "cell_type": "markdown",
   "metadata": {},
   "source": [
    "### Загрузка данных файла Iris.data "
   ]
  },
  {
   "cell_type": "code",
   "execution_count": 3,
   "metadata": {},
   "outputs": [
    {
     "name": "stdout",
     "output_type": "stream",
     "text": [
      "[[5.1 3.5 1.4 0.2 nan]\n",
      " [4.9 3.  1.4 0.2 nan]\n",
      " [4.7 3.2 1.3 0.2 nan]\n",
      " [4.6 3.1 1.5 0.2 nan]\n",
      " [5.  3.6 1.4 0.2 nan]\n",
      " [5.4 3.9 1.7 0.4 nan]\n",
      " [4.6 3.4 1.4 0.3 nan]\n",
      " [5.  3.4 1.5 0.2 nan]\n",
      " [4.4 2.9 1.4 0.2 nan]\n",
      " [4.9 3.1 1.5 0.1 nan]\n",
      " [5.4 3.7 1.5 0.2 nan]\n",
      " [4.8 3.4 1.6 0.2 nan]\n",
      " [4.8 3.  1.4 0.1 nan]\n",
      " [4.3 3.  1.1 0.1 nan]\n",
      " [5.8 4.  1.2 0.2 nan]\n",
      " [5.7 4.4 1.5 0.4 nan]\n",
      " [5.4 3.9 1.3 0.4 nan]\n",
      " [5.1 3.5 1.4 0.3 nan]\n",
      " [5.7 3.8 1.7 0.3 nan]\n",
      " [5.1 3.8 1.5 0.3 nan]\n",
      " [5.4 3.4 1.7 0.2 nan]\n",
      " [5.1 3.7 1.5 0.4 nan]\n",
      " [4.6 3.6 1.  0.2 nan]\n",
      " [5.1 3.3 1.7 0.5 nan]\n",
      " [4.8 3.4 1.9 0.2 nan]\n",
      " [5.  3.  1.6 0.2 nan]\n",
      " [5.  3.4 1.6 0.4 nan]\n",
      " [5.2 3.5 1.5 0.2 nan]\n",
      " [5.2 3.4 1.4 0.2 nan]\n",
      " [4.7 3.2 1.6 0.2 nan]\n",
      " [4.8 3.1 1.6 0.2 nan]\n",
      " [5.4 3.4 1.5 0.4 nan]\n",
      " [5.2 4.1 1.5 0.1 nan]\n",
      " [5.5 4.2 1.4 0.2 nan]\n",
      " [4.9 3.1 1.5 0.1 nan]\n",
      " [5.  3.2 1.2 0.2 nan]\n",
      " [5.5 3.5 1.3 0.2 nan]\n",
      " [4.9 3.1 1.5 0.1 nan]\n",
      " [4.4 3.  1.3 0.2 nan]\n",
      " [5.1 3.4 1.5 0.2 nan]\n",
      " [5.  3.5 1.3 0.3 nan]\n",
      " [4.5 2.3 1.3 0.3 nan]\n",
      " [4.4 3.2 1.3 0.2 nan]\n",
      " [5.  3.5 1.6 0.6 nan]\n",
      " [5.1 3.8 1.9 0.4 nan]\n",
      " [4.8 3.  1.4 0.3 nan]\n",
      " [5.1 3.8 1.6 0.2 nan]\n",
      " [4.6 3.2 1.4 0.2 nan]\n",
      " [5.3 3.7 1.5 0.2 nan]\n",
      " [5.  3.3 1.4 0.2 nan]\n",
      " [7.  3.2 4.7 1.4 nan]\n",
      " [6.4 3.2 4.5 1.5 nan]\n",
      " [6.9 3.1 4.9 1.5 nan]\n",
      " [5.5 2.3 4.  1.3 nan]\n",
      " [6.5 2.8 4.6 1.5 nan]\n",
      " [5.7 2.8 4.5 1.3 nan]\n",
      " [6.3 3.3 4.7 1.6 nan]\n",
      " [4.9 2.4 3.3 1.  nan]\n",
      " [6.6 2.9 4.6 1.3 nan]\n",
      " [5.2 2.7 3.9 1.4 nan]\n",
      " [5.  2.  3.5 1.  nan]\n",
      " [5.9 3.  4.2 1.5 nan]\n",
      " [6.  2.2 4.  1.  nan]\n",
      " [6.1 2.9 4.7 1.4 nan]\n",
      " [5.6 2.9 3.6 1.3 nan]\n",
      " [6.7 3.1 4.4 1.4 nan]\n",
      " [5.6 3.  4.5 1.5 nan]\n",
      " [5.8 2.7 4.1 1.  nan]\n",
      " [6.2 2.2 4.5 1.5 nan]\n",
      " [5.6 2.5 3.9 1.1 nan]\n",
      " [5.9 3.2 4.8 1.8 nan]\n",
      " [6.1 2.8 4.  1.3 nan]\n",
      " [6.3 2.5 4.9 1.5 nan]\n",
      " [6.1 2.8 4.7 1.2 nan]\n",
      " [6.4 2.9 4.3 1.3 nan]\n",
      " [6.6 3.  4.4 1.4 nan]\n",
      " [6.8 2.8 4.8 1.4 nan]\n",
      " [6.7 3.  5.  1.7 nan]\n",
      " [6.  2.9 4.5 1.5 nan]\n",
      " [5.7 2.6 3.5 1.  nan]\n",
      " [5.5 2.4 3.8 1.1 nan]\n",
      " [5.5 2.4 3.7 1.  nan]\n",
      " [5.8 2.7 3.9 1.2 nan]\n",
      " [6.  2.7 5.1 1.6 nan]\n",
      " [5.4 3.  4.5 1.5 nan]\n",
      " [6.  3.4 4.5 1.6 nan]\n",
      " [6.7 3.1 4.7 1.5 nan]\n",
      " [6.3 2.3 4.4 1.3 nan]\n",
      " [5.6 3.  4.1 1.3 nan]\n",
      " [5.5 2.5 4.  1.3 nan]\n",
      " [5.5 2.6 4.4 1.2 nan]\n",
      " [6.1 3.  4.6 1.4 nan]\n",
      " [5.8 2.6 4.  1.2 nan]\n",
      " [5.  2.3 3.3 1.  nan]\n",
      " [5.6 2.7 4.2 1.3 nan]\n",
      " [5.7 3.  4.2 1.2 nan]\n",
      " [5.7 2.9 4.2 1.3 nan]\n",
      " [6.2 2.9 4.3 1.3 nan]\n",
      " [5.1 2.5 3.  1.1 nan]\n",
      " [5.7 2.8 4.1 1.3 nan]\n",
      " [6.3 3.3 6.  2.5 nan]\n",
      " [5.8 2.7 5.1 1.9 nan]\n",
      " [7.1 3.  5.9 2.1 nan]\n",
      " [6.3 2.9 5.6 1.8 nan]\n",
      " [6.5 3.  5.8 2.2 nan]\n",
      " [7.6 3.  6.6 2.1 nan]\n",
      " [4.9 2.5 4.5 1.7 nan]\n",
      " [7.3 2.9 6.3 1.8 nan]\n",
      " [6.7 2.5 5.8 1.8 nan]\n",
      " [7.2 3.6 6.1 2.5 nan]\n",
      " [6.5 3.2 5.1 2.  nan]\n",
      " [6.4 2.7 5.3 1.9 nan]\n",
      " [6.8 3.  5.5 2.1 nan]\n",
      " [5.7 2.5 5.  2.  nan]\n",
      " [5.8 2.8 5.1 2.4 nan]\n",
      " [6.4 3.2 5.3 2.3 nan]\n",
      " [6.5 3.  5.5 1.8 nan]\n",
      " [7.7 3.8 6.7 2.2 nan]\n",
      " [7.7 2.6 6.9 2.3 nan]\n",
      " [6.  2.2 5.  1.5 nan]\n",
      " [6.9 3.2 5.7 2.3 nan]\n",
      " [5.6 2.8 4.9 2.  nan]\n",
      " [7.7 2.8 6.7 2.  nan]\n",
      " [6.3 2.7 4.9 1.8 nan]\n",
      " [6.7 3.3 5.7 2.1 nan]\n",
      " [7.2 3.2 6.  1.8 nan]\n",
      " [6.2 2.8 4.8 1.8 nan]\n",
      " [6.1 3.  4.9 1.8 nan]\n",
      " [6.4 2.8 5.6 2.1 nan]\n",
      " [7.2 3.  5.8 1.6 nan]\n",
      " [7.4 2.8 6.1 1.9 nan]\n",
      " [7.9 3.8 6.4 2.  nan]\n",
      " [6.4 2.8 5.6 2.2 nan]\n",
      " [6.3 2.8 5.1 1.5 nan]\n",
      " [6.1 2.6 5.6 1.4 nan]\n",
      " [7.7 3.  6.1 2.3 nan]\n",
      " [6.3 3.4 5.6 2.4 nan]\n",
      " [6.4 3.1 5.5 1.8 nan]\n",
      " [6.  3.  4.8 1.8 nan]\n",
      " [6.9 3.1 5.4 2.1 nan]\n",
      " [6.7 3.1 5.6 2.4 nan]\n",
      " [6.9 3.1 5.1 2.3 nan]\n",
      " [5.8 2.7 5.1 1.9 nan]\n",
      " [6.8 3.2 5.9 2.3 nan]\n",
      " [6.7 3.3 5.7 2.5 nan]\n",
      " [6.7 3.  5.2 2.3 nan]\n",
      " [6.3 2.5 5.  1.9 nan]\n",
      " [6.5 3.  5.2 2.  nan]\n",
      " [6.2 3.4 5.4 2.3 nan]\n",
      " [5.9 3.  5.1 1.8 nan]]\n"
     ]
    }
   ],
   "source": [
    "import numpy as np\n",
    "\n",
    "# Метод genfromtxt() возвращает массив numpy (тип numpy.ndarray).\n",
    "data = np.genfromtxt(\"iris.data\", delimiter=\",\")\n",
    "\n",
    "print(data)"
   ]
  },
  {
   "cell_type": "markdown",
   "metadata": {},
   "source": [
    "### Пятый столбец содержит неопределённые значения numpy.NaN\n",
    "\n",
    "Функция numpy.genfromtxt() по умолчанию пытается загрузить все данные как числа (float),\n",
    "потому что numpy массивы требуют однородного типа данных (все элементы одного типа).\n",
    "\n",
    "Однако в данных:\n",
    "\n",
    "- первые 4 значения — это числа (5.4, 3.9, 1.7, 0.4),\n",
    "\n",
    "- а пятое значение — это строка (Iris-setosa).\n",
    "\n",
    "Когда genfromtxt() натыкается на строку вместо числа в пятом столбце,\n",
    "он не может преобразовать эту строку в число.\n",
    "И чтобы сохранить тип массива (float), он туда записывает специальное значение\n",
    "numpy.NaN (Not a Number), которое обозначает \"не число\" в числовом массиве."
   ]
  },
  {
   "cell_type": "markdown",
   "metadata": {},
   "source": [
    "### Начальное исследование Iris.data"
   ]
  },
  {
   "cell_type": "code",
   "execution_count": 4,
   "metadata": {},
   "outputs": [
    {
     "name": "stdout",
     "output_type": "stream",
     "text": [
      "Data type :  <class 'numpy.ndarray'>\n",
      "Data shape :  (150, 5)\n",
      "[[5.1 3.5 1.4 0.2 nan]\n",
      " [4.9 3.  1.4 0.2 nan]\n",
      " [4.7 3.2 1.3 0.2 nan]\n",
      " [4.6 3.1 1.5 0.2 nan]\n",
      " [5.  3.6 1.4 0.2 nan]\n",
      " [5.4 3.9 1.7 0.4 nan]\n",
      " [4.6 3.4 1.4 0.3 nan]\n",
      " [5.  3.4 1.5 0.2 nan]\n",
      " [4.4 2.9 1.4 0.2 nan]\n",
      " [4.9 3.1 1.5 0.1 nan]]\n"
     ]
    }
   ],
   "source": [
    "# Печать типа данных переменной data\n",
    "print(\"Data type : \", type(data))\n",
    "\n",
    "# Печать формы массива (количество строк и столбцов)\n",
    "print(\"Data shape : \", data.shape)\n",
    "\n",
    "# Печать первых 10 строк массива данных\n",
    "print(data[:10])"
   ]
  },
  {
   "cell_type": "markdown",
   "metadata": {},
   "source": [
    "### Загрузка даных разного типа в массив "
   ]
  },
  {
   "cell_type": "code",
   "execution_count": 9,
   "metadata": {},
   "outputs": [
    {
     "name": "stdout",
     "output_type": "stream",
     "text": [
      "(150,)\n",
      "тип объекта:: <class 'numpy.ndarray'>\n",
      "тип первой строки (первой записи):: <class 'numpy.void'>\n",
      "тип элемента в первой строке и пятом столбце:: <class 'numpy.str_'>\n",
      "первые 10 записей массива:: [(5.1, 3.5, 1.4, 0.2, 'Iris-setosa') (4.9, 3. , 1.4, 0.2, 'Iris-setosa')\n",
      " (4.7, 3.2, 1.3, 0.2, 'Iris-setosa') (4.6, 3.1, 1.5, 0.2, 'Iris-setosa')\n",
      " (5. , 3.6, 1.4, 0.2, 'Iris-setosa') (5.4, 3.9, 1.7, 0.4, 'Iris-setosa')\n",
      " (4.6, 3.4, 1.4, 0.3, 'Iris-setosa') (5. , 3.4, 1.5, 0.2, 'Iris-setosa')\n",
      " (4.4, 2.9, 1.4, 0.2, 'Iris-setosa') (4.9, 3.1, 1.5, 0.1, 'Iris-setosa')]\n"
     ]
    }
   ],
   "source": [
    "import numpy as np\n",
    "\n",
    "# Загружаем данные из файла \"iris.data\", разделитель — запятая, тип данных автоматически определяется\n",
    "data1 = np.genfromtxt(\"iris.data\", delimiter=\",\", dtype=None, encoding='utf-8')\n",
    "\n",
    "# Печатаем форму массива (количество строк и столбцов)\n",
    "print(data1.shape)\n",
    "\n",
    "# Печатаем тип объекта data1\n",
    "print('тип объекта::', type(data1))\n",
    "\n",
    "# Печатаем тип первой строки (первой записи)\n",
    "print('тип первой строки (первой записи)::', type(data1[0]))\n",
    "\n",
    "# Печатаем тип элемента в первой строке и пятом столбце\n",
    "print('тип элемента в первой строке и пятом столбце::', type(data1[0][4]))\n",
    "\n",
    "# Печатаем первые 10 записей массива\n",
    "print('первые 10 записей массива::', data1[:10])"
   ]
  },
  {
   "cell_type": "markdown",
   "metadata": {},
   "source": [
    "### Загрузка даных в массив с типом, определяемым пользователем "
   ]
  },
  {
   "cell_type": "code",
   "execution_count": 11,
   "metadata": {},
   "outputs": [
    {
     "name": "stdout",
     "output_type": "stream",
     "text": [
      "Форма массива (количество строк):: (150,)\n",
      "Тип объекта data2:: <class 'numpy.ndarray'>\n",
      "Тип первой строки массива (data2[0]):: <class 'numpy.void'>\n",
      "Тип пятого поля (вид ириса) в первой строке (data2[0][4]):: <class 'numpy.str_'>\n",
      "Первые 10 строк массива:: [(5.1, 3.5, 1.4, 0.2, 'Iris-setosa') (4.9, 3. , 1.4, 0.2, 'Iris-setosa')\n",
      " (4.7, 3.2, 1.3, 0.2, 'Iris-setosa') (4.6, 3.1, 1.5, 0.2, 'Iris-setosa')\n",
      " (5. , 3.6, 1.4, 0.2, 'Iris-setosa') (5.4, 3.9, 1.7, 0.4, 'Iris-setosa')\n",
      " (4.6, 3.4, 1.4, 0.3, 'Iris-setosa') (5. , 3.4, 1.5, 0.2, 'Iris-setosa')\n",
      " (4.4, 2.9, 1.4, 0.2, 'Iris-setosa') (4.9, 3.1, 1.5, 0.1, 'Iris-setosa')]\n"
     ]
    }
   ],
   "source": [
    "# Определяем структуру данных (dtype) для массива:\n",
    "# 4 столбца типа float64 (обозначено 'f8') и 1 столбец типа строки длиной до 30 символов ('U30')\n",
    "dt = np.dtype(\"f8, f8, f8, f8, U30\")\n",
    "\n",
    "# Загружаем данные из файла iris.data, используя заданный dtype и разделитель запятые\n",
    "data2 = np.genfromtxt(\"iris.data\", delimiter=\",\", dtype=dt)\n",
    "\n",
    "# Выводим форму массива (количество строк и столбцов)\n",
    "print('Форма массива (количество строк)::', data2.shape)\n",
    "\n",
    "# Выводим тип объекта data2\n",
    "print('Тип объекта data2::', type(data2))\n",
    "\n",
    "# Выводим тип первой строки массива\n",
    "print('Тип первой строки массива (data2[0])::', type(data2[0]))\n",
    "\n",
    "# Выводим тип пятого поля (название вида ириса) в первой строке\n",
    "print('Тип пятого поля (вид ириса) в первой строке (data2[0][4])::', type(data2[0][4]))\n",
    "\n",
    "# Выводим первые 10 строк массива\n",
    "print('Первые 10 строк массива::', data2[:10])\n"
   ]
  },
  {
   "cell_type": "markdown",
   "metadata": {},
   "source": [
    "## Пояснение различий в структурах данных\n",
    "\n",
    "### При использовании `np.genfromtxt(..., dtype=None)`\n",
    "\n",
    "- **Что происходит:**  \n",
    "  NumPy автоматически пытается определить тип данных для каждой колонки.\n",
    "\n",
    "- **Что получается:**  \n",
    "  Массив типа `numpy.ndarray`, где каждый элемент — это структура (`numpy.void`) с разными типами данных: числовые значения (`float`) и строковые данные в виде байтовых строк (`bytes`).\n",
    "\n",
    "- **Пример:**\n",
    "  ```python\n",
    "  print(type(data))           # <class 'numpy.ndarray'>\n",
    "  print(type(data[0]))         # <class 'numpy.void'>\n",
    "  print(type(data[0][4]))      # <class 'numpy.bytes_'>\n",
    "  ```\n",
    "  Видно, что пятый столбец (название вида ириса) представлен в виде байтовой строки `b'Iris-setosa'`.\n",
    "\n",
    "- **Недостатки:**\n",
    "  - Строки читаются как `bytes`, а не как привычные строки (`str`).\n",
    "  - Возможны неопределённые значения `NaN`, если тип не удалось корректно определить.\n",
    "\n",
    "---\n",
    "\n",
    "### При использовании `np.genfromtxt(..., dtype=dt)`\n",
    "\n",
    "- **Что происходит:**  \n",
    "  Мы явно задаём структуру данных с помощью объекта `dtype`. Например:\n",
    "  ```python\n",
    "  dt = np.dtype('f8, f8, f8, f8, U30')\n",
    "  ```\n",
    "\n",
    "- **Что получается:**  \n",
    "  Массив типа `numpy.ndarray`, где каждый элемент — структура (`numpy.void`) с точно определёнными типами данных для каждой колонки.\n",
    "\n",
    "- **Пример:**\n",
    "  ```python\n",
    "  print(type(data2))           # <class 'numpy.ndarray'>\n",
    "  print(type(data2[0]))         # <class 'numpy.void'>\n",
    "  print(type(data2[0][4]))      # <class 'str'>\n",
    "  ```\n",
    "  Теперь пятый столбец (`Iris-setosa`) читается корректно как строка (`str`), а не как байты.\n",
    "\n",
    "- **Преимущества:**\n",
    "  - Явная типизация исключает ошибки автоматического распознавания типов.\n",
    "  - Корректная работа с текстовыми данными.\n",
    "  - Более надёжная загрузка данных для дальнейшей обработки."
   ]
  },
  {
   "cell_type": "markdown",
   "metadata": {},
   "source": [
    "### Простейший анализ данных по графическому представлению"
   ]
  },
  {
   "cell_type": "code",
   "execution_count": 12,
   "metadata": {},
   "outputs": [
    {
     "data": {
      "image/png": "[encoded data removed]",
      "text/plain": [
       "<Figure size 432x288 with 1 Axes>"
      ]
     },
     "metadata": {
      "needs_background": "light"
     },
     "output_type": "display_data"
    }
   ],
   "source": [
    "import matplotlib as mpl\n",
    "import matplotlib.pyplot as plt\n",
    "\n",
    "# Инициализируем пустые списки для хранения данных из отдельных столбцов\n",
    "sepal_length = []  # Длина наружной доли околоцветника (Sepal Length)\n",
    "sepal_width = []   # Ширина наружной доли околоцветника (Sepal Width)\n",
    "petal_length = []  # Длина внутренней доли околоцветника (Petal Length)\n",
    "petal_width = []   # Ширина внутренней доли околоцветника (Petal Width)\n",
    "\n",
    "# Обходим всю коллекцию data2 и заполняем соответствующие списки\n",
    "for dot in data2:\n",
    "    sepal_length.append(dot[0])  # Добавляем значение длины чашелистика\n",
    "    sepal_width.append(dot[1])   # Добавляем значение ширины чашелистика\n",
    "    petal_length.append(dot[2])  # Добавляем значение длины лепестка\n",
    "    petal_width.append(dot[3])   # Добавляем значение ширины лепестка\n",
    "\n",
    "# Строим графики на основе данных\n",
    "# Учитываем, что каждые 50 элементов соответствуют одному виду ирисов\n",
    "plt.figure(1)  # Создаём новую фигуру\n",
    "\n",
    "# Строим график для первого вида ирисов - Setosa\n",
    "setosa, = plt.plot(sepal_length[:50], sepal_width[:50], 'ro', label='Setosa')  # Красные кружки\n",
    "\n",
    "# Строим график для второго вида ирисов - Versicolor\n",
    "versicolor, = plt.plot(sepal_length[50:100], sepal_width[50:100], 'g^', label='Versicolor')  # Зелёные треугольники\n",
    "\n",
    "# Строим график для третьего вида ирисов - Virginica\n",
    "virginica, = plt.plot(sepal_length[100:150], sepal_width[100:150], 'bs', label='Virginica')  # Синие квадраты\n",
    "\n",
    "# Настройка легенды: переносим её за пределы графика\n",
    "plt.legend(bbox_to_anchor=(1.05, 1), loc=2, borderaxespad=0.)\n",
    "\n",
    "# Подписываем оси\n",
    "plt.xlabel('Sepal Length')  # Подпись оси X\n",
    "plt.ylabel('Sepal Width')   # Подпись оси Y\n",
    "\n",
    "# Отображаем график\n",
    "plt.show()\n"
   ]
  },
  {
   "cell_type": "markdown",
   "metadata": {},
   "source": [
    "Уже из графического распределения видно, что тип ирисов Setosa хорошо отделяется."
   ]
  },
  {
   "cell_type": "markdown",
   "metadata": {},
   "source": [
    "### Построение простейшего графика для отображения различных проекций данных "
   ]
  },
  {
   "cell_type": "code",
   "execution_count": 16,
   "metadata": {},
   "outputs": [
    {
     "data": {
      "image/png": "[encoded data removed]",
      "text/plain": [
       "<Figure size 432x288 with 1 Axes>"
      ]
     },
     "metadata": {
      "needs_background": "light"
     },
     "output_type": "display_data"
    },
    {
     "data": {
      "image/png": "[encoded data removed]",
      "text/plain": [
       "<Figure size 432x288 with 1 Axes>"
      ]
     },
     "metadata": {
      "needs_background": "light"
     },
     "output_type": "display_data"
    },
    {
     "data": {
      "image/png": "[encoded data removed]",
      "text/plain": [
       "<Figure size 432x288 with 1 Axes>"
      ]
     },
     "metadata": {
      "needs_background": "light"
     },
     "output_type": "display_data"
    }
   ],
   "source": [
    "# Строим графики по проекциям данных\n",
    "# Учитываем, что каждые 50 типов ирисов идут последовательно\n",
    "\n",
    "# Первый график: Sepal Length vs Sepal Width\n",
    "plt.figure(1)\n",
    "setosa, = plt.plot(sepal_length[:50], sepal_width[:50], 'ro', label='Setosa')\n",
    "versicolor, = plt.plot(sepal_length[50:100], sepal_width[50:100], 'g^', label='Versicolor')\n",
    "virginica, = plt.plot(sepal_length[100:150], sepal_width[100:150], 'bs', label='Virginica')\n",
    "plt.legend(bbox_to_anchor=(1.05, 1), loc=2, borderaxespad=0.)\n",
    "plt.xlabel('Sepal Length')\n",
    "plt.ylabel('Sepal Width')\n",
    "\n",
    "# Второй график: Sepal Length vs Petal Length\n",
    "plt.figure(2)\n",
    "setosa, = plt.plot(sepal_length[:50], petal_length[:50], 'ro', label='Setosa')\n",
    "versicolor, = plt.plot(sepal_length[50:100], petal_length[50:100], 'g^', label='Versicolor')\n",
    "virginica, = plt.plot(sepal_length[100:150], petal_length[100:150], 'bs', label='Virginica')\n",
    "plt.legend(bbox_to_anchor=(1.05, 1), loc=2, borderaxespad=0.)\n",
    "plt.xlabel('Sepal Length')\n",
    "plt.ylabel('Petal Length')\n",
    "\n",
    "# Третий график: Sepal Length vs Petal Width\n",
    "plt.figure(3)\n",
    "setosa, = plt.plot(sepal_length[:50], petal_width[:50], 'ro', label='Setosa')\n",
    "versicolor, = plt.plot(sepal_length[50:100], petal_width[50:100], 'g^', label='Versicolor')\n",
    "virginica, = plt.plot(sepal_length[100:150], petal_width[100:150], 'bs', label='Virginica')\n",
    "plt.legend(bbox_to_anchor=(1.05, 1), loc=2, borderaxespad=0.)\n",
    "plt.xlabel('Sepal Length')\n",
    "plt.ylabel('Petal Width')\n",
    "\n",
    "# Отображаем все графики\n",
    "plt.show()"
   ]
  },
  {
   "cell_type": "markdown",
   "metadata": {},
   "source": [
    "Из графиков уже хорошо видно, что множество Setosa хорошо отделимо, а множества Versicolor и Verginica\n",
    "представляют собой множества, разделение которых является непростой задачей. "
   ]
  },
  {
   "cell_type": "code",
   "execution_count": null,
   "metadata": {},
   "outputs": [],
   "source": []
  }
 ],
 "metadata": {
  "kernelspec": {
   "display_name": "Python 3",
   "language": "python",
   "name": "python3"
  },
  "language_info": {
   "codemirror_mode": {
    "name": "ipython",
    "version": 3
   },
   "file_extension": ".py",
   "mimetype": "text/x-python",
   "name": "python",
   "nbconvert_exporter": "python",
   "pygments_lexer": "ipython3",
   "version": "3.8.5"
  }
 },
 "nbformat": 4,
 "nbformat_minor": 4
}
