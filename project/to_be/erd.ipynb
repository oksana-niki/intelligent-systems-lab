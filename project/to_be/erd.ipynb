{
 "cells": [
  {
   "cell_type": "code",
   "execution_count": 1,
   "id": "4bc75e80-47fd-45e4-80c5-74451f2da4b1",
   "metadata": {},
   "outputs": [
    {
     "data": {
      "text/plain": [
       "'erd.png'"
      ]
     },
     "execution_count": 1,
     "metadata": {},
     "output_type": "execute_result"
    }
   ],
   "source": [
    "import graphviz\n",
    "\n",
    "# Создание ERD диаграммы (IDEF1X-подобная)\n",
    "dot = graphviz.Digraph(comment='ERD для системы подбора ТСР')\n",
    "\n",
    "# Определение сущностей и их атрибутов\n",
    "entities = {\n",
    "    \"Пациент\": [\"ID\", \"ФИО\", \"Возраст\", \"ФормаДЦП\", \"УровеньGMFCS\"],\n",
    "    \"Нарушение\": [\"ID\", \"Тип\", \"Описание\"],\n",
    "    \"ТСР\": [\"ID\", \"Тип\", \"МаксВес\", \"СовместимостьGMFCS\", \"СовместимостьФормаДЦП\"],\n",
    "    \"Рекомендация\": [\"ID\", \"Дата\", \"Автор\", \"ПациентID\"],\n",
    "    \"Пользователь\": [\"ID\", \"Имя\", \"Роль\"]\n",
    "}\n",
    "\n",
    "# Добавление узлов-сущностей\n",
    "for entity, attributes in entities.items():\n",
    "    label = f\"{entity}|{'|'.join(attributes)}\"\n",
    "    dot.node(entity, f\"{{{label}}}\", shape='record')\n",
    "\n",
    "# Добавление связей\n",
    "dot.edge(\"Пациент\", \"Нарушение\", label=\"имеет\", dir=\"both\")\n",
    "dot.edge(\"Пациент\", \"Рекомендация\", label=\"получает\", dir=\"both\")\n",
    "dot.edge(\"Рекомендация\", \"ТСР\", label=\"включает\", dir=\"both\")\n",
    "dot.edge(\"Рекомендация\", \"Пользователь\", label=\"создана\", dir=\"forward\")\n",
    "\n",
    "# Рендеринг\n",
    "output_path = \"erd\"\n",
    "dot.render(output_path, format='png', cleanup=False)\n",
    "output_path + \".png\"\n"
   ]
  },
  {
   "cell_type": "code",
   "execution_count": null,
   "id": "f8b843d7-7575-44d5-829e-0ef577b638f8",
   "metadata": {},
   "outputs": [],
   "source": []
  }
 ],
 "metadata": {
  "kernelspec": {
   "display_name": "Python 3 (ipykernel)",
   "language": "python",
   "name": "python3"
  },
  "language_info": {
   "codemirror_mode": {
    "name": "ipython",
    "version": 3
   },
   "file_extension": ".py",
   "mimetype": "text/x-python",
   "name": "python",
   "nbconvert_exporter": "python",
   "pygments_lexer": "ipython3",
   "version": "3.13.3"
  }
 },
 "nbformat": 4,
 "nbformat_minor": 5
}
