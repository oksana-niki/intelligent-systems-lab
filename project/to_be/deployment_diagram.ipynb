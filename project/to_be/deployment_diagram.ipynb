{
 "cells": [
  {
   "cell_type": "code",
   "execution_count": 2,
   "id": "afc8efd1-78c1-42a6-b75d-876a0da6894d",
   "metadata": {},
   "outputs": [
    {
     "data": {
      "text/plain": [
       "'deployment_diagram.png'"
      ]
     },
     "execution_count": 2,
     "metadata": {},
     "output_type": "execute_result"
    }
   ],
   "source": [
    "from graphviz import Digraph\n",
    "\n",
    "# Диаграмма развертывания\n",
    "deployment = Digraph(format='png')\n",
    "deployment.attr(rankdir='TB', size='8,6')\n",
    "deployment.attr('node', shape='box3d')\n",
    "\n",
    "deployment.node(\"UserDevice\", \"Рабочее место специалиста\")\n",
    "deployment.node(\"GUI2\", \"Графический интерфейс\")\n",
    "deployment.node(\"LocalEngine\", \"Логика системы\")\n",
    "deployment.node(\"LocalDB\", \"SQLite БД\")\n",
    "deployment.node(\"OWLFile\", \"Файл онтологии OWL\")\n",
    "deployment.node(\"PDFModule\", \"Модуль экспорта PDF\")\n",
    "\n",
    "# Структура узлов\n",
    "deployment.edge(\"UserDevice\", \"GUI2\")\n",
    "deployment.edge(\"GUI2\", \"LocalEngine\")\n",
    "deployment.edge(\"LocalEngine\", \"LocalDB\")\n",
    "deployment.edge(\"LocalEngine\", \"OWLFile\")\n",
    "deployment.edge(\"LocalEngine\", \"PDFModule\")\n",
    "\n",
    "# Сохранение диаграммы размещения\n",
    "deployment_path = \"deployment_diagram\"\n",
    "deployment.render(deployment_path, cleanup=True)\n"
   ]
  },
  {
   "cell_type": "code",
   "execution_count": null,
   "id": "04aef58f-9142-4f5a-bf5e-7275be3a1030",
   "metadata": {},
   "outputs": [],
   "source": []
  }
 ],
 "metadata": {
  "kernelspec": {
   "display_name": "Python 3 (ipykernel)",
   "language": "python",
   "name": "python3"
  },
  "language_info": {
   "codemirror_mode": {
    "name": "ipython",
    "version": 3
   },
   "file_extension": ".py",
   "mimetype": "text/x-python",
   "name": "python",
   "nbconvert_exporter": "python",
   "pygments_lexer": "ipython3",
   "version": "3.13.3"
  }
 },
 "nbformat": 4,
 "nbformat_minor": 5
}
