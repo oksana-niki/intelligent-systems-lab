{
 "cells": [
  {
   "cell_type": "code",
   "execution_count": 1,
   "id": "8c7d7c6e-2d0e-44f5-8346-321253cf8b1e",
   "metadata": {},
   "outputs": [
    {
     "data": {
      "text/plain": [
       "'component_diagram.png'"
      ]
     },
     "execution_count": 1,
     "metadata": {},
     "output_type": "execute_result"
    }
   ],
   "source": [
    "from graphviz import Digraph\n",
    "\n",
    "# Диаграмма компонентов\n",
    "component = Digraph(format='png')\n",
    "component.attr(rankdir='LR', size='10,5')\n",
    "component.attr('node', shape='box')\n",
    "\n",
    "# Основные компоненты\n",
    "component.node(\"GUI\", \"Графический интерфейс\\n(ввод/просмотр)\")\n",
    "component.node(\"Engine\", \"Логика подбора ТСР\\n(дерево решений/онтология)\")\n",
    "component.node(\"DB\", \"База данных\\n(SQLite)\")\n",
    "component.node(\"Ontology\", \"Хранилище знаний\\n(OWL/SWRL)\")\n",
    "component.node(\"Report\", \"Генератор отчётов\\n(PDF/экспорт)\")\n",
    "\n",
    "# Связи\n",
    "component.edge(\"GUI\", \"Engine\")\n",
    "component.edge(\"Engine\", \"DB\")\n",
    "component.edge(\"Engine\", \"Ontology\")\n",
    "component.edge(\"Engine\", \"Report\")\n",
    "\n",
    "# Сохранение диаграммы компонентов\n",
    "component_path = \"component_diagram\"\n",
    "component.render(component_path, cleanup=True)"
   ]
  },
  {
   "cell_type": "code",
   "execution_count": null,
   "id": "35892de9-bddc-48ab-aa83-c2f0e41291e1",
   "metadata": {},
   "outputs": [],
   "source": []
  }
 ],
 "metadata": {
  "kernelspec": {
   "display_name": "Python 3 (ipykernel)",
   "language": "python",
   "name": "python3"
  },
  "language_info": {
   "codemirror_mode": {
    "name": "ipython",
    "version": 3
   },
   "file_extension": ".py",
   "mimetype": "text/x-python",
   "name": "python",
   "nbconvert_exporter": "python",
   "pygments_lexer": "ipython3",
   "version": "3.13.3"
  }
 },
 "nbformat": 4,
 "nbformat_minor": 5
}
