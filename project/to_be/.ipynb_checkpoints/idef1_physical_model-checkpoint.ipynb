{
 "cells": [
  {
   "cell_type": "code",
   "execution_count": 1,
   "id": "cb37eec7-97f9-4842-beea-dd6dea496167",
   "metadata": {},
   "outputs": [
    {
     "data": {
      "text/plain": [
       "'idef1_physical_model.png'"
      ]
     },
     "execution_count": 1,
     "metadata": {},
     "output_type": "execute_result"
    }
   ],
   "source": [
    "from graphviz import Digraph\n",
    "\n",
    "# Создание IDEF1 диаграммы (сущности и их связи)\n",
    "dot = Digraph(format='png')\n",
    "dot.attr(rankdir='LR', size='8,5')\n",
    "\n",
    "# Сущности (таблицы)\n",
    "dot.node(\"Patient\", \"Пациенты\")\n",
    "dot.node(\"Disorder\", \"Нарушения\")\n",
    "dot.node(\"PatientDisorder\", \"Пациент_Нарушения\")\n",
    "dot.node(\"TSR\", \"ТСР\")\n",
    "dot.node(\"Recommendation\", \"Рекомендации\")\n",
    "dot.node(\"RecomTSR\", \"Рекомендация_ТСР\")\n",
    "\n",
    "# Связи\n",
    "dot.edge(\"Patient\", \"PatientDisorder\", label=\"1\", arrowhead='normal')\n",
    "dot.edge(\"Disorder\", \"PatientDisorder\", label=\"1\", arrowhead='normal')\n",
    "dot.edge(\"PatientDisorder\", \"Patient\", label=\"N\", dir=\"back\")\n",
    "dot.edge(\"PatientDisorder\", \"Disorder\", label=\"N\", dir=\"back\")\n",
    "\n",
    "dot.edge(\"Patient\", \"Recommendation\", label=\"1\", arrowhead='normal')\n",
    "dot.edge(\"Recommendation\", \"Patient\", label=\"N\", dir=\"back\")\n",
    "\n",
    "dot.edge(\"Recommendation\", \"RecomTSR\", label=\"1\", arrowhead='normal')\n",
    "dot.edge(\"TSR\", \"RecomTSR\", label=\"1\", arrowhead='normal')\n",
    "dot.edge(\"RecomTSR\", \"Recommendation\", label=\"N\", dir=\"back\")\n",
    "dot.edge(\"RecomTSR\", \"TSR\", label=\"N\", dir=\"back\")\n",
    "\n",
    "# Сохранение диаграммы\n",
    "idef_path = \"idef1_physical_model\"\n",
    "dot.render(idef_path, cleanup=True)\n",
    "\n",
    "idef_path + \".png\"\n"
   ]
  },
  {
   "cell_type": "code",
   "execution_count": null,
   "id": "b858b73a-743b-4e4b-837c-f7f5689f1ef4",
   "metadata": {},
   "outputs": [],
   "source": []
  }
 ],
 "metadata": {
  "kernelspec": {
   "display_name": "Python 3 (ipykernel)",
   "language": "python",
   "name": "python3"
  },
  "language_info": {
   "codemirror_mode": {
    "name": "ipython",
    "version": 3
   },
   "file_extension": ".py",
   "mimetype": "text/x-python",
   "name": "python",
   "nbconvert_exporter": "python",
   "pygments_lexer": "ipython3",
   "version": "3.13.3"
  }
 },
 "nbformat": 4,
 "nbformat_minor": 5
}
