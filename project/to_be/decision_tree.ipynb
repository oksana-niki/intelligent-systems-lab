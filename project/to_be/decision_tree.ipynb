{
 "cells": [
  {
   "cell_type": "code",
   "execution_count": 1,
   "id": "134efaef-ff1a-4bda-8284-66c2c7e9c036",
   "metadata": {},
   "outputs": [
    {
     "data": {
      "text/plain": [
       "'decision_tree.png'"
      ]
     },
     "execution_count": 1,
     "metadata": {},
     "output_type": "execute_result"
    }
   ],
   "source": [
    "import graphviz\n",
    "\n",
    "# Воссоздание дерева решений после сброса\n",
    "dot = graphviz.Digraph(format='png')\n",
    "dot.attr(rankdir='TB', size='8,10')\n",
    "\n",
    "# Вершины дерева\n",
    "dot.node(\"root\", \"Форма ДЦП?\")\n",
    "dot.node(\"spastic\", \"Спастическая\")\n",
    "dot.node(\"athetoid\", \"Атетозная\")\n",
    "dot.node(\"gmfcs4\", \"GMFCS IV?\")\n",
    "dot.node(\"gmfcs3\", \"GMFCS III?\")\n",
    "dot.node(\"rec1\", \"Рекомендовать:\\nКресло-коляска с вертикализатором\")\n",
    "dot.node(\"rec2\", \"Рекомендовать:\\nХодунки с поддержкой таза\")\n",
    "dot.node(\"rec3\", \"Рекомендовать:\\nОртезы для нижних конечностей\")\n",
    "\n",
    "# Связи\n",
    "dot.edge(\"root\", \"spastic\", label=\"да\")\n",
    "dot.edge(\"root\", \"athetoid\", label=\"нет\")\n",
    "dot.edge(\"spastic\", \"gmfcs4\")\n",
    "dot.edge(\"gmfcs4\", \"rec1\", label=\"да\")\n",
    "dot.edge(\"gmfcs4\", \"gmfcs3\", label=\"нет\")\n",
    "dot.edge(\"gmfcs3\", \"rec2\", label=\"да\")\n",
    "dot.edge(\"gmfcs3\", \"rec3\", label=\"нет\")\n",
    "\n",
    "# Сохранение\n",
    "output_path = \"decision_tree\"\n",
    "dot.render(output_path, cleanup=True)\n",
    "\n",
    "output_path + \".png\"\n"
   ]
  },
  {
   "cell_type": "code",
   "execution_count": null,
   "id": "b0098de7-bbf5-4092-b8e7-1f9f3ec18cc0",
   "metadata": {},
   "outputs": [],
   "source": []
  }
 ],
 "metadata": {
  "kernelspec": {
   "display_name": "Python 3 (ipykernel)",
   "language": "python",
   "name": "python3"
  },
  "language_info": {
   "codemirror_mode": {
    "name": "ipython",
    "version": 3
   },
   "file_extension": ".py",
   "mimetype": "text/x-python",
   "name": "python",
   "nbconvert_exporter": "python",
   "pygments_lexer": "ipython3",
   "version": "3.13.3"
  }
 },
 "nbformat": 4,
 "nbformat_minor": 5
}
